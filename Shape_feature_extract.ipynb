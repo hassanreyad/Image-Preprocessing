{
 "cells": [
  {
   "cell_type": "markdown",
   "id": "07ceb959",
   "metadata": {},
   "source": [
    "# Importing Libraries"
   ]
  },
  {
   "cell_type": "code",
   "execution_count": null,
   "id": "0aa809f4",
   "metadata": {},
   "outputs": [],
   "source": [
    "import os\n",
    "import cv2 as cv\n",
    "from skimage.io import imread,imshow,imsave\n",
    "from skimage import img_as_ubyte\n",
    "from skimage.color import rgba2rgb,rgb2gray\n",
    "from skimage.filters import threshold_otsu,gaussian,laplace,threshold_multiotsu\n",
    "from skimage.morphology import binary_closing,closing,dilation,erosion,opening,reconstruction,area_closing,area_opening\n",
    "from skimage.measure import label, regionprops, regionprops_table\n",
    "from skimage.feature import canny\n",
    "import numpy as np\n",
    "import pandas as pd\n",
    "import matplotlib.pyplot as plt\n",
    "from rembg import remove\n",
    "from PIL import Image\n",
    "\n",
    "from sklearn.ensemble import GradientBoostingClassifier,RandomForestClassifier\n",
    "from sklearn.model_selection import train_test_split\n",
    "from sklearn.metrics import classification_report\n",
    "\n",
    "from sklearn.tree import DecisionTreeClassifier\n",
    "\n",
    "from sklearn.svm import SVC\n",
    "\n",
    "from sklearn.neighbors import KNeighborsClassifier\n",
    "\n",
    "from sklearn.preprocessing import MinMaxScaler,StandardScaler"
   ]
  },
  {
   "cell_type": "markdown",
   "id": "870cffcb",
   "metadata": {},
   "source": [
    "# Defining Folders"
   ]
  },
  {
   "cell_type": "code",
   "execution_count": 2,
   "id": "af93b006",
   "metadata": {},
   "outputs": [],
   "source": [
    "input_folder = \"RGB/\"\n",
    "output_folder = \"BW/\"\n",
    "extract_folder = \"extract_BW/\"\n",
    "leaf_bw = \"leaf_bw/\""
   ]
  },
  {
   "cell_type": "markdown",
   "id": "670c8752",
   "metadata": {},
   "source": [
    "# Image resize and pre process"
   ]
  },
  {
   "cell_type": "code",
   "execution_count": 3,
   "id": "6ba5bc44",
   "metadata": {},
   "outputs": [],
   "source": [
    "def img_resize(image):\n",
    "    shp = image.shape\n",
    "    height = shp[0]\n",
    "    width = shp[1]\n",
    "    aspect_ratio = float(height) / float(width)\n",
    "    new_height = int(2500 * aspect_ratio)\n",
    "    resized_image = cv.resize(image,(2500 ,new_height))\n",
    "    return resized_image\n",
    "\n",
    "\n",
    "def image_process(image):\n",
    "    img = imread(image)\n",
    "    img = img_resize(img)\n",
    "    rem_img = remove(img)\n",
    "    rgb_img = rgba2rgb(rem_img)\n",
    "    gray_img = rgb2gray(rgb_img)\n",
    "    bin_img = gray_img < threshold_otsu(gray_img)\n",
    "    smooth_img = gaussian(bin_img)\n",
    "\n",
    "    seed_px = np.copy(smooth_img)\n",
    "    seed_px[1:-1 , 1:-1]=smooth_img.max()\n",
    "    mask = smooth_img\n",
    "    filled_img = reconstruction(seed_px , mask , method ='erosion')\n",
    "    filled_img = img_as_ubyte(filled_img)\n",
    "\n",
    "    return filled_img"
   ]
  },
  {
   "cell_type": "markdown",
   "id": "f7034869",
   "metadata": {},
   "source": [
    "# Extract shape features and putting into dataframe"
   ]
  },
  {
   "cell_type": "code",
   "execution_count": null,
   "id": "16552fdc",
   "metadata": {},
   "outputs": [],
   "source": [
    "leaf_classes = os.listdir(extract_folder)\n",
    "df = pd.DataFrame()\n",
    "sp = 1\n",
    "\n",
    "for clas in leaf_classes:\n",
    "    leafpath= extract_folder + clas +\"/\"\n",
    "    leaves = os.listdir(leafpath)\n",
    "    print(clas)\n",
    "    lf = 1\n",
    "    for leaf in leaves:\n",
    "        leaf_dir = leafpath + str(leaf)\n",
    "        leaf_img = imread(leaf_dir)\n",
    "        leaf_img = leaf_img > 0\n",
    "        label_img = label(leaf_img)\n",
    "        \n",
    "        table = pd.DataFrame( regionprops_table(label_img , leaf_img , properties=\n",
    "                             ['convex_area', 'area', 'eccentricity',\n",
    "                           'extent', 'perimeter' ,\n",
    "                              'solidity',\n",
    "                           'orientation','major_axis_length','minor_axis_length',\n",
    "                           'equivalent_diameter',\n",
    "                              'centroid'] ))\n",
    "        table['perimeter_area_ratio'] = table['perimeter']/table['area']\n",
    "        \n",
    "        species = []\n",
    "        species_no = []\n",
    "        leaf_no = []\n",
    "        \n",
    "        for prop in regionprops(label_img):\n",
    "            species += [str(clas)]\n",
    "            species_no += [str(sp)]\n",
    "            leaf_no += [str(lf)]\n",
    "        table['species'] = species\n",
    "        table['species_no'] = species_no\n",
    "        table['leaf_no'] = leaf_no\n",
    "        lf += 1\n",
    "\n",
    "        df = pd.concat([df, table], axis=0)\n",
    "    sp += 1\n",
    "\n",
    "\n",
    "df.to_csv(r'feature.csv', sep= ',' , index=True , encoding='utf-8')\n",
    "df1 = pd.read_csv(\"feature.csv\")"
   ]
  },
  {
   "cell_type": "markdown",
   "id": "9da38360",
   "metadata": {},
   "source": [
    "# test train splittting"
   ]
  },
  {
   "cell_type": "code",
   "execution_count": null,
   "id": "c9c0e291",
   "metadata": {},
   "outputs": [],
   "source": [
    "X = df1.drop(columns=['species', 'leaf_no','species_no'])\n",
    "\n",
    "#features\n",
    "X = X[['area','extent','perimeter','minor_axis_length',\n",
    "       'major_axis_length','perimeter_area_ratio',\n",
    "       'minor_axis_length', 'solidity', 'eccentricity','equivalent_diameter']]\n",
    "\n",
    "#scaler = MinMaxScaler()\n",
    "scaler = StandardScaler()\n",
    "X = scaler.fit_transform(X)\n",
    "#print(X)\n",
    "#target\n",
    "y = df1['species_no']\n",
    "#columns = X.columns\n",
    "\n",
    "#train-test-split\n",
    "X_train, X_test, y_train, y_test = train_test_split(\n",
    "X, y, test_size=0.3, random_state=1, stratify=y)"
   ]
  },
  {
   "cell_type": "markdown",
   "id": "c7a3e378",
   "metadata": {},
   "source": [
    "# Classifiers"
   ]
  },
  {
   "cell_type": "code",
   "execution_count": null,
   "id": "44feb06c",
   "metadata": {},
   "outputs": [],
   "source": [
    "#GBM\n",
    "clf = GradientBoostingClassifier(n_estimators=50, max_depth=3, random_state=123)\n",
    "clf.fit(X_train, y_train)\n",
    "\n",
    "#print confusion matrix of test set\n",
    "print(classification_report(clf.predict(X_test), y_test))\n",
    "\n",
    "#print accuracy score of the test set\n",
    "print(f\"Test Accuracy: {np.mean(clf.predict(X_test) == y_test)*100:.2f}%\")\n",
    "\n",
    "#Decision Tree\n",
    "clf = DecisionTreeClassifier()\n",
    "clf.fit(X_train, y_train)\n",
    "print(classification_report(clf.predict(X_test), y_test))\n",
    "print(f\"Test Accuracy: {np.mean(clf.predict(X_test) == y_test)*100:.2f}%\")\n",
    "\n",
    "#KNN\n",
    "for i in range(1,50):\n",
    "    clf = KNeighborsClassifier(n_neighbors=i)\n",
    "    clf.fit(X_train, y_train)\n",
    "    print(classification_report(clf.predict(X_test), y_test))\n",
    "    print(f\"Test Accuracy: {np.mean(clf.predict(X_test) == y_test)*100:.2f}%\" , i)\n",
    "\n",
    "    \n",
    "#SVM   \n",
    "clf = SVC(kernel='rbf' , random_state = 0)\n",
    "clf.fit(X_train, y_train)\n",
    "print(classification_report(clf.predict(X_test), y_test))\n",
    "print(f\"Test Accuracy: {np.mean(clf.predict(X_test) == y_test)*100:.2f}%\")\n",
    "\n",
    "\n"
   ]
  }
 ],
 "metadata": {
  "kernelspec": {
   "display_name": "Python 3 (ipykernel)",
   "language": "python",
   "name": "python3"
  },
  "language_info": {
   "codemirror_mode": {
    "name": "ipython",
    "version": 3
   },
   "file_extension": ".py",
   "mimetype": "text/x-python",
   "name": "python",
   "nbconvert_exporter": "python",
   "pygments_lexer": "ipython3",
   "version": "3.10.5"
  }
 },
 "nbformat": 4,
 "nbformat_minor": 5
}
